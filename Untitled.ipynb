{
 "cells": [
  {
   "cell_type": "code",
   "execution_count": null,
   "id": "22c5e130",
   "metadata": {},
   "outputs": [
    {
     "name": "stdout",
     "output_type": "stream",
     "text": [
      "[2024/04/13 05:55:52] ppocr DEBUG: Namespace(help='==SUPPRESS==', use_gpu=False, use_xpu=False, use_npu=False, ir_optim=True, use_tensorrt=False, min_subgraph_size=15, precision='fp32', gpu_mem=500, gpu_id=0, image_dir=None, page_num=0, det_algorithm='DB', det_model_dir='C:\\\\Users\\\\ajlan/.paddleocr/whl\\\\det\\\\ch\\\\ch_PP-OCRv4_det_infer', det_limit_side_len=960, det_limit_type='max', det_box_type='quad', det_db_thresh=0.3, det_db_box_thresh=0.6, det_db_unclip_ratio=1.5, max_batch_size=10, use_dilation=False, det_db_score_mode='fast', det_east_score_thresh=0.8, det_east_cover_thresh=0.1, det_east_nms_thresh=0.2, det_sast_score_thresh=0.5, det_sast_nms_thresh=0.2, det_pse_thresh=0, det_pse_box_thresh=0.85, det_pse_min_area=16, det_pse_scale=1, scales=[8, 16, 32], alpha=1.0, beta=1.0, fourier_degree=5, rec_algorithm='SVTR_LCNet', rec_model_dir='C:\\\\Users\\\\ajlan/.paddleocr/whl\\\\rec\\\\ch\\\\ch_PP-OCRv4_rec_infer', rec_image_inverse=True, rec_image_shape='3, 48, 320', rec_batch_num=6, max_text_length=25, rec_char_dict_path='C:\\\\Users\\\\ajlan\\\\anaconda3\\\\Lib\\\\site-packages\\\\paddleocr\\\\ppocr\\\\utils\\\\ppocr_keys_v1.txt', use_space_char=True, vis_font_path='./doc/fonts/simfang.ttf', drop_score=0.5, e2e_algorithm='PGNet', e2e_model_dir=None, e2e_limit_side_len=768, e2e_limit_type='max', e2e_pgnet_score_thresh=0.5, e2e_char_dict_path='./ppocr/utils/ic15_dict.txt', e2e_pgnet_valid_set='totaltext', e2e_pgnet_mode='fast', use_angle_cls=False, cls_model_dir=None, cls_image_shape='3, 48, 192', label_list=['0', '180'], cls_batch_num=6, cls_thresh=0.9, enable_mkldnn=False, cpu_threads=10, use_pdserving=False, warmup=False, sr_model_dir=None, sr_image_shape='3, 32, 128', sr_batch_num=1, draw_img_save_dir='./inference_results', save_crop_res=False, crop_res_save_dir='./output', use_mp=False, total_process_num=1, process_id=0, benchmark=False, save_log_path='./log_output/', show_log=True, use_onnx=False, output='./output', table_max_len=488, table_algorithm='TableAttn', table_model_dir='C:\\\\Users\\\\ajlan/.paddleocr/whl\\\\table\\\\ch_ppstructure_mobile_v2.0_SLANet_infer', merge_no_span_structure=True, table_char_dict_path='C:\\\\Users\\\\ajlan\\\\anaconda3\\\\Lib\\\\site-packages\\\\paddleocr\\\\ppocr\\\\utils\\\\dict\\\\table_structure_dict_ch.txt', layout_model_dir='C:\\\\Users\\\\ajlan/.paddleocr/whl\\\\layout\\\\picodet_lcnet_x1_0_fgd_layout_cdla_infer', layout_dict_path='C:\\\\Users\\\\ajlan\\\\anaconda3\\\\Lib\\\\site-packages\\\\paddleocr\\\\ppocr\\\\utils\\\\dict\\\\layout_dict\\\\layout_cdla_dict.txt', layout_score_threshold=0.5, layout_nms_threshold=0.5, kie_algorithm='LayoutXLM', ser_model_dir=None, re_model_dir=None, use_visual_backbone=True, ser_dict_path='../train_data/XFUND/class_list_xfun.txt', ocr_order_method=None, mode='structure', image_orientation=False, layout=False, table=True, ocr=True, recovery=False, use_pdf2docx_api=False, invert=False, binarize=False, alphacolor=(255, 255, 255), lang='ch', det=True, rec=True, type='ocr', ocr_version='PP-OCRv4', structure_version='PP-StructureV2')\n",
      "[2024/04/13 05:55:52] ppocr WARNING: When args.layout is false, args.ocr is automatically set to false\n"
     ]
    }
   ],
   "source": [
    "import os\n",
    "import cv2\n",
    "from paddleocr import PPStructure,save_structure_res\n",
    "\n",
    "table_engine = PPStructure(layout=False, show_log=True, use_gpu=False)\n",
    "\n",
    "save_folder = './output'\n",
    "img_path = 'pages/page13.jpg'\n",
    "img = cv2.imread(img_path)\n",
    "result = table_engine(img)"
   ]
  },
  {
   "cell_type": "code",
   "execution_count": 2,
   "id": "ebb24d55",
   "metadata": {},
   "outputs": [
    {
     "name": "stdout",
     "output_type": "stream",
     "text": [
      "Looking in indexes: https://mirror.baidu.com/pypi/simple\n",
      "Requirement already satisfied: paddlepaddle-gpu in c:\\users\\ajlan\\anaconda3\\lib\\site-packages (2.6.1)\n",
      "Requirement already satisfied: httpx in c:\\users\\ajlan\\anaconda3\\lib\\site-packages (from paddlepaddle-gpu) (0.27.0)\n",
      "Requirement already satisfied: numpy>=1.13 in c:\\users\\ajlan\\anaconda3\\lib\\site-packages (from paddlepaddle-gpu) (1.24.3)\n",
      "Requirement already satisfied: Pillow in c:\\users\\ajlan\\anaconda3\\lib\\site-packages (from paddlepaddle-gpu) (10.3.0)\n",
      "Requirement already satisfied: decorator in c:\\users\\ajlan\\anaconda3\\lib\\site-packages (from paddlepaddle-gpu) (5.1.1)\n",
      "Requirement already satisfied: astor in c:\\users\\ajlan\\anaconda3\\lib\\site-packages (from paddlepaddle-gpu) (0.8.1)\n",
      "Requirement already satisfied: opt-einsum==3.3.0 in c:\\users\\ajlan\\anaconda3\\lib\\site-packages (from paddlepaddle-gpu) (3.3.0)\n",
      "Requirement already satisfied: protobuf<=3.20.2,>=3.1.0 in c:\\users\\ajlan\\anaconda3\\lib\\site-packages (from paddlepaddle-gpu) (3.20.2)\n",
      "Requirement already satisfied: anyio in c:\\users\\ajlan\\anaconda3\\lib\\site-packages (from httpx->paddlepaddle-gpu) (3.5.0)\n",
      "Requirement already satisfied: certifi in c:\\users\\ajlan\\anaconda3\\lib\\site-packages (from httpx->paddlepaddle-gpu) (2024.2.2)\n",
      "Requirement already satisfied: httpcore==1.* in c:\\users\\ajlan\\anaconda3\\lib\\site-packages (from httpx->paddlepaddle-gpu) (1.0.5)\n",
      "Requirement already satisfied: idna in c:\\users\\ajlan\\anaconda3\\lib\\site-packages (from httpx->paddlepaddle-gpu) (3.4)\n",
      "Requirement already satisfied: sniffio in c:\\users\\ajlan\\anaconda3\\lib\\site-packages (from httpx->paddlepaddle-gpu) (1.2.0)\n",
      "Requirement already satisfied: h11<0.15,>=0.13 in c:\\users\\ajlan\\anaconda3\\lib\\site-packages (from httpcore==1.*->httpx->paddlepaddle-gpu) (0.14.0)\n",
      "Note: you may need to restart the kernel to use updated packages.\n"
     ]
    }
   ],
   "source": [
    "pip install paddlepaddle-gpu -i https://mirror.baidu.com/pypi/simple"
   ]
  },
  {
   "cell_type": "code",
   "execution_count": null,
   "id": "520f5bd4",
   "metadata": {},
   "outputs": [],
   "source": []
  }
 ],
 "metadata": {
  "kernelspec": {
   "display_name": "Python 3 (ipykernel)",
   "language": "python",
   "name": "python3"
  },
  "language_info": {
   "codemirror_mode": {
    "name": "ipython",
    "version": 3
   },
   "file_extension": ".py",
   "mimetype": "text/x-python",
   "name": "python",
   "nbconvert_exporter": "python",
   "pygments_lexer": "ipython3",
   "version": "3.11.4"
  }
 },
 "nbformat": 4,
 "nbformat_minor": 5
}
